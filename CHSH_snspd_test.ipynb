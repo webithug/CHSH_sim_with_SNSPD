{
 "cells": [
  {
   "cell_type": "code",
   "execution_count": 50,
   "id": "59a37b4c",
   "metadata": {
    "scrolled": true
   },
   "outputs": [
    {
     "name": "stdout",
     "output_type": "stream",
     "text": [
      "[{'00': 504, '11': 520, '01': 0, '10': 0}, {'11': 275, '00': 267, '10': 254, '01': 228}, {'01': 257, '11': 248, '10': 257, '00': 262}, {'00': 537, '11': 487, '01': 0, '10': 0}, {'01': 30, '11': 489, '10': 17, '00': 488}, {'00': 128, '10': 361, '11': 167, '01': 368}, {'11': 371, '01': 137, '10': 156, '00': 360}, {'01': 26, '11': 473, '10': 21, '00': 504}, {'01': 92, '11': 404, '10': 97, '00': 431}, {'11': 54, '01': 470, '00': 51, '10': 449}, {'01': 49, '00': 459, '10': 60, '11': 456}, {'01': 95, '10': 96, '00': 447, '11': 386}, {'01': 181, '11': 317, '10': 221, '00': 305}, {'11': 9, '01': 508, '00': 9, '10': 498}, {'01': 8, '11': 505, '10': 7, '00': 504}, {'10': 202, '00': 311, '01': 219, '11': 292}, {'11': 213, '00': 220, '10': 295, '01': 296}, {'11': 10, '00': 7, '10': 486, '01': 521}, {'01': 5, '11': 498, '10': 6, '00': 515}, {'00': 215, '10': 301, '01': 323, '11': 185}, {'11': 102, '00': 105, '10': 413, '01': 404}, {'11': 54, '01': 451, '00': 48, '10': 471}, {'01': 40, '11': 471, '10': 57, '00': 456}, {'11': 96, '01': 416, '00': 101, '10': 411}, {'11': 27, '01': 502, '00': 19, '10': 476}, {'11': 136, '10': 353, '00': 158, '01': 377}, {'10': 136, '00': 340, '01': 150, '11': 398}, {'11': 26, '00': 22, '10': 487, '01': 489}, {'01': 527, '10': 497, '00': 0, '11': 0}, {'11': 288, '01': 222, '00': 256, '10': 258}, {'11': 238, '01': 255, '00': 274, '10': 257}, {'10': 487, '01': 537, '00': 0, '11': 0}, {'11': 23, '00': 18, '10': 472, '01': 511}, {'01': 146, '10': 153, '00': 360, '11': 365}, {'11': 163, '00': 132, '10': 364, '01': 365}, {'11': 32, '01': 472, '00': 26, '10': 494}, {'00': 107, '10': 400, '11': 71, '01': 446}, {'01': 71, '00': 462, '10': 52, '11': 439}, {'11': 65, '01': 452, '00': 53, '10': 454}, {'11': 103, '01': 420, '00': 114, '10': 387}, {'11': 205, '01': 304, '10': 316, '00': 199}, {'01': 6, '10': 5, '00': 492, '11': 521}, {'11': 3, '00': 7, '10': 514, '01': 500}, {'01': 301, '11': 206, '10': 316, '00': 201}, {'01': 200, '11': 321, '00': 296, '10': 207}, {'01': 3, '10': 3, '00': 526, '11': 492}, {'11': 7, '01': 499, '00': 7, '10': 511}, {'11': 308, '01': 212, '00': 285, '10': 219}, {'01': 96, '11': 416, '10': 100, '00': 412}, {'01': 61, '10': 55, '00': 473, '11': 435}, {'11': 57, '01': 452, '00': 60, '10': 455}, {'01': 103, '10': 94, '00': 402, '11': 425}, {'10': 28, '00': 504, '01': 35, '11': 457}, {'01': 143, '00': 366, '10': 149, '11': 366}, {'11': 151, '01': 361, '10': 366, '00': 146}, {'01': 27, '11': 489, '10': 25, '00': 483}, {'11': 522, '00': 502, '01': 0, '10': 0}, {'00': 256, '10': 245, '11': 266, '01': 257}, {'00': 271, '10': 258, '11': 262, '01': 233}, {'11': 512, '00': 512, '01': 0, '10': 0}]\n",
      "[{'00': 306.63997, '10': 2.8501200000000004, '01': 2.8501200000000004, '11': 341.5394160000001}, {'00': 163.76202875000004, '10': 162.00728100000003, '01': 145.58293800000004, '11': 191.16348300000004}, {'00': 160.80705799999998, '10': 163.8152265, '01': 163.8152265, '11': 174.14497800000004}, {'00': 326.71676575, '10': 2.846655, '01': 2.846655, '11': 319.91217300000005}, {'00': 297.03350025000003, '10': 13.46199, '01': 21.674161500000004, '11': 322.21654200000006}, {'00': 79.86741574999999, '10': 228.937461, '01': 233.35939950000002, '11': 125.60524200000002}, {'00': 219.82843475000004, '10': 100.6083315, '01': 88.605927, '11': 250.08345000000006}, {'00': 306.76770425, '10': 15.987132000000003, '01': 19.145659500000004, '11': 311.7306060000001}, {'00': 262.7413190000001, '10': 63.615264, '01': 60.456736500000005, '11': 269.51202900000004}, {'00': 33.5379315, '10': 284.01493500000004, '01': 297.28075050000007, '11': 55.565109}, {'00': 279.558756, '10': 40.4584605, '01': 33.5097, '11': 301.900041}, {'00': 272.48095850000004, '10': 62.976397500000004, '01': 62.34469200000001, '11': 257.75763300000006}, {'00': 186.66334325000003, '10': 141.3762495, '01': 116.10802950000001, '11': 216.99778500000005}, {'00': 8.22209025, '10': 314.734491, '01': 321.05154600000003, '11': 27.912681000000003}, {'00': 306.68073625, '10': 7.230951, '01': 7.862656500000001, '11': 332.02596600000004}, {'00': 190.365307, '10': 129.3211455, '01': 140.06013900000002, '11': 201.01518900000002}, {'00': 135.46403925, '10': 187.61342700000003, '01': 188.2451325, '11': 152.83485000000002}, {'00': 7.0080325000000006, '10': 307.15149450000007, '01': 329.261187, '11': 28.589193}, {'00': 313.36213050000003, '10': 6.609052500000001, '01': 5.977347000000001, '11': 327.353805}, {'00': 132.51178625, '10': 191.3137485, '01': 205.21126950000001, '11': 135.18211500000004}, {'00': 66.1136595, '10': 261.54739800000004, '01': 255.86204850000004, '11': 84.866535}, {'00': 31.7209215, '10': 297.90454950000003, '01': 285.27043950000007, '11': 55.62853200000001}, {'00': 277.70097975000004, '10': 38.596545, '01': 27.857551500000003, '11': 311.4769140000001}, {'00': 63.707286, '10': 260.257002, '01': 263.41552950000005, '11': 81.14571900000001}, {'00': 14.229870750000002, '10': 300.91265400000003, '01': 317.33699700000005, '11': 39.117411000000004}, {'00': 98.12176600000002, '10': 223.87792650000003, '01': 239.0388585, '11': 105.30988200000002}, {'00': 207.6416555, '10': 87.99550500000001, '01': 96.83938200000001, '11': 267.63048000000003}, {'00': 16.0495985, '10': 307.86658050000005, '01': 309.1299915000001, '11': 38.419758}, {'00': 2.7955200000000002, '10': 314.05440150000004, '01': 333.00556650000004, '11': 22.39488}, {'00': 157.06432800000002, '10': 164.54073900000006, '01': 141.79934100000003, '11': 199.64102400000004}, {'00': 168.1022755, '10': 163.81944750000002, '01': 162.55603650000003, '11': 167.548986}, {'00': 2.7955200000000002, '10': 307.73734650000006, '01': 339.3226215, '11': 22.39488}, {'00': 13.635071750000002, '10': 298.37223450000005, '01': 323.0087490000001, '11': 36.60163200000001}, {'00': 219.84474125000003, '10': 98.696772, '01': 94.27483350000001, '11': 246.27807000000004}, {'00': 82.30096675, '10': 230.83215750000005, '01': 231.463863, '11': 122.98375800000002}, {'00': 18.455972000000003, '10': 312.31550400000003, '01': 298.417983, '11': 42.14057400000001}, {'00': 67.40924975000001, '10': 253.25554200000002, '01': 282.313995, '11': 65.16312300000001}, {'00': 281.42196774999996, '10': 35.36613450000001, '01': 47.368539000000006, '11': 291.05470800000006}, {'00': 34.71937625000001, '10': 287.208879, '01': 285.945468, '11': 62.49935700000001}, {'00': 71.56197175000001, '10': 245.149515, '01': 265.9957965000001, '11': 85.31049600000001}, {'00': 122.76671125, '10': 200.80197300000003, '01': 193.221507, '11': 148.20497100000003}, {'00': 299.36921225000003, '10': 5.979762000000001, '01': 6.6114675, '11': 342.4273380000001}, {'00': 7.02705675, '10': 324.82006500000006, '01': 315.97618800000004, '11': 24.149583}, {'00': 123.9753335, '10': 200.80998450000004, '01': 191.334402, '11': 148.79691900000003}, {'00': 181.20144224999999, '10': 132.51961500000002, '01': 128.0976765, '11': 219.724974}, {'00': 320.0408070000001, '10': 4.7264835000000005, '01': 4.7264835000000005, '11': 323.31587400000006}, {'00': 7.01618575, '10': 322.9359105, '01': 315.35544450000003, '11': 26.686503000000002}, {'00': 174.574403, '10': 140.03546400000002, '01': 135.6135255, '11': 211.71253500000003}, {'00': 251.20097600000003, '10': 65.49319200000001, '01': 62.966370000000005, '11': 277.524468}, {'00': 288.09520875000004, '10': 37.279279499999994, '01': 41.069512499999995, '11': 288.28523700000005}, {'00': 38.98080825000001, '10': 287.83710899999994, '01': 285.94199249999997, '11': 57.27753}, {'00': 245.11981625, '10': 61.701268500000005, '01': 67.386618, '11': 283.44394800000003}, {'00': 306.81118825, '10': 20.365222499999998, '01': 24.787161, '11': 301.58292600000004}, {'00': 223.4760435, '10': 96.18850350000001, '01': 92.39827050000001, '11': 246.78545400000004}, {'00': 90.81295975, '10': 232.09957950000003, '01': 228.941052, '11': 115.077024}, {'00': 294.00515025000004, '10': 18.502456499999997, '01': 19.765867500000002, '11': 322.32224700000006}, {'00': 305.4231945, '10': 2.8503300000000005, '01': 2.8503300000000005, '11': 342.850158}, {'00': 157.12411849999998, '10': 156.2682765, '01': 163.84874250000001, '11': 185.68796400000002}, {'00': 166.22003949999998, '10': 164.50901850000005, '01': 148.716381, '11': 182.83392900000004}, {'00': 311.50707200000005, '10': 2.8492800000000003, '01': 2.8492800000000003, '11': 336.29644800000005}]\n"
     ]
    }
   ],
   "source": [
    "#import qiskit tools\n",
    "import qiskit\n",
    "from qiskit import QuantumCircuit, ClassicalRegister, QuantumRegister, transpile, Aer, IBMQ\n",
    "from qiskit.tools.visualization import circuit_drawer\n",
    "from qiskit.visualization import plot_histogram\n",
    "from qiskit.tools.monitor import job_monitor, backend_monitor, backend_overview\n",
    "from qiskit.providers.aer import noise\n",
    "\n",
    "#import python stuff\n",
    "import matplotlib.pyplot as plt\n",
    "import numpy as np\n",
    "import time\n",
    "\n",
    "# Set backend device, choose to use a simulator\n",
    "sim = Aer.get_backend('aer_simulator')\n",
    "\n",
    "# functions..............................................................................................\n",
    "def make_chsh_circuit(theta_vec):\n",
    "    \"\"\"Return a list of QuantumCircuits for use in a CHSH experiemnt\n",
    "    (one circuit for each value of theta in theta_vec)\n",
    "    (theta is the angle between the bases of Alice and Bob)\n",
    "    \n",
    "        Args:\n",
    "            theta_vec (list): list of values of angles between the bases of Alice and Bob\n",
    "        \n",
    "        Returns:\n",
    "            List[QuantumCircuit]: CHSH QuantumCircuits for each value of theta\n",
    "    \"\"\"\n",
    "    chsh_circuits = []\n",
    "    \n",
    "    for theta in theta_vec:\n",
    "        obs_vec = ['00', '01', '10', '11'] # observed_vector? ex: '01' means 1st measurement got 0, second got 1\n",
    "        for el in obs_vec:\n",
    "            qc = QuantumCircuit(2,2) # create a quantum circuit with two quantum register(qubits) and two classical register\n",
    "            qc.h(0) # add a H gate on qubit 0\n",
    "            qc.cx(0, 1) # Add a CX (CNOT) gate on control qubit 0 and target qubit 1\n",
    "            qc.ry(theta, 0) # rotate around y-axis by theta\n",
    "            for a in range(2): # what does this do? why do we need this part?\n",
    "                if el[a] == '1':\n",
    "                    qc.h(a)\n",
    "            qc.measure(range(2),range(2)) # measure q0 save to bit_0, then measure q1 save to bit_1\n",
    "            chsh_circuits.append(qc)\n",
    "\n",
    "    return chsh_circuits\n",
    "\n",
    "def compute_chsh_witness(counts):\n",
    "    \"\"\"Computes expectation values for the CHSH inequality, for each\n",
    "    angle (theta) between measurement axis.\n",
    "\n",
    "        Args: counts (list[dict]): dict of counts for each experiment\n",
    "              (4 per value of theta)\n",
    "\n",
    "        Returns:\n",
    "            Tuple(List, List): Tuple of lists with the two CHSH witnesses\n",
    "    \"\"\"\n",
    "    # Order is ZZ,ZX,XZ,XX\n",
    "    \n",
    "    CHSH1 = []\n",
    "    CHSH2 = []\n",
    "    # Divide the list of dictionaries in sets of 4\n",
    "    for i in range(0, len(counts), 4):  \n",
    "        theta_dict = counts[i:i + 4]\n",
    "        zz = theta_dict[0] # alice uses z basis, bob uses z basis, which is the same as a and b measurement.\n",
    "        zx = theta_dict[1] # a and b'\n",
    "        xz = theta_dict[2]\n",
    "        xx = theta_dict[3]\n",
    "\n",
    "        no_shots = sum(xx[y] for y in xx)\n",
    "\n",
    "        chsh1 = 0\n",
    "        chsh2 = 0\n",
    "\n",
    "        # E(a,b)\n",
    "        for element in zz:  # zz is a dict\n",
    "            parity = (-1)**(int(element[0])+int(element[1])) \n",
    "            chsh1+= parity*zz[element]\n",
    "            chsh2+= parity*zz[element]\n",
    "\n",
    "        #E(a,b')\n",
    "        for element in zx:\n",
    "            parity = (-1)**(int(element[0])+int(element[1]))\n",
    "            chsh1+= parity*zx[element]\n",
    "            chsh2-= parity*zx[element]\n",
    "\n",
    "        #E(a',b)\n",
    "        for element in xz:\n",
    "            parity = (-1)**(int(element[0])+int(element[1]))\n",
    "            chsh1-= parity*xz[element]\n",
    "            chsh2+= parity*xz[element]\n",
    "\n",
    "        # E(a',b')\n",
    "        for element in xx:\n",
    "            parity = (-1)**(int(element[0])+int(element[1]))\n",
    "            chsh1+= parity*xx[element]\n",
    "            chsh2+= parity*xx[element]\n",
    "\n",
    "        CHSH1.append(chsh1/no_shots)\n",
    "        CHSH2.append(chsh2/no_shots)\n",
    "    \n",
    "    return CHSH1 #return the S of each circuit\n",
    "# functions...........................................................................................\n",
    "\n",
    "#split 0 to 2pi into 15 angles. use these angles to build the chsh circuit\n",
    "number_of_thetas = 15\n",
    "theta_vec = np.linspace(0,2*np.pi,number_of_thetas)\n",
    "my_chsh_circuits = make_chsh_circuit(theta_vec)\n",
    "\n",
    "# test and see the circuit: the circuits create a bell pair, and measure them in different basis. \n",
    "# Bob(q1) in +,-,0,1 state, Alice(q0) in theta respected to Bob\n",
    "# my_chsh_circuits[5].draw()\n",
    "\n",
    "# Execute and get counts\n",
    "result_ideal = sim.run(my_chsh_circuits).result()\n",
    "counts_ideal = result_ideal.get_counts()\n",
    "CHSH1_ideal = compute_chsh_witness(counts_ideal) # this is the S value\n",
    "\n",
    "# use snspd data to modify the counts\n",
    "snspd_counts = []\n",
    "for i in range(0,len(counts_ideal)):\n",
    "    if ('00' in counts_ideal[i]) == False:\n",
    "        counts_ideal[i]['00'] = 0\n",
    "    if ('01' in counts_ideal[i]) == False:\n",
    "        counts_ideal[i]['01'] = 0\n",
    "    if ('10' in counts_ideal[i]) == False:\n",
    "        counts_ideal[i]['10'] = 0\n",
    "    if ('11' in counts_ideal[i]) == False:\n",
    "        counts_ideal[i]['11'] = 0\n",
    "    snspd_counts.append({})\n",
    "    snspd_counts[i]['00'] = counts_ideal[i]['00']*0.78*0.78 + counts_ideal[i]['10']*0.0035*0.78 + counts_ideal[i]['01']*0.0035*0.78 + counts_ideal[i]['11']*0.0035*0.0035\n",
    "    snspd_counts[i]['10'] = counts_ideal[i]['00']*0.0035*0.78 + counts_ideal[i]['10']*0.81*0.78 + counts_ideal[i]['01']*0.027*0.0035 + counts_ideal[i]['11']*0.81*0.0035\n",
    "    snspd_counts[i]['01'] = counts_ideal[i]['00']*0.0035*0.78 + counts_ideal[i]['10']*0.0035*0.027 + counts_ideal[i]['01']*0.78*0.81 + counts_ideal[i]['11']*0.81*0.0035\n",
    "    snspd_counts[i]['11'] = counts_ideal[i]['00']*0.027*0.027 + counts_ideal[i]['10']*0.81*0.027 + counts_ideal[i]['01']*0.027*0.81 + counts_ideal[i]['11']*0.81*0.81\n",
    "print(counts_ideal)  \n",
    "print(snspd_counts)"
   ]
  },
  {
   "cell_type": "code",
   "execution_count": 51,
   "id": "53bd51aa",
   "metadata": {},
   "outputs": [
    {
     "name": "stdout",
     "output_type": "stream",
     "text": [
      "[2.0625, 0.96484375, -0.32421875, -1.54296875, -2.318359375, -2.822265625, -2.68359375, -1.9375, -0.966796875, 0.30078125, 1.54296875, 2.32421875, 2.77734375, 2.625, 1.978515625]\n"
     ]
    }
   ],
   "source": [
    "print(CHSH1_ideal)"
   ]
  },
  {
   "cell_type": "code",
   "execution_count": 53,
   "id": "dd13e756",
   "metadata": {},
   "outputs": [
    {
     "name": "stdout",
     "output_type": "stream",
     "text": [
      "[2.0287955639041817, 0.9637815257159311, -0.28461852888112527, -1.4454351446103353, -2.1759930906996674, -2.638340669055355, -2.4980447987838597, -1.7889906778005658, -0.8805188062396728, 0.3119791336002828, 1.4985352205180718, 2.2501263213273774, 2.6994445687552315, 2.5636070031828058, 1.9457384848721517]\n"
     ]
    }
   ],
   "source": [
    "# calculate the S for snspd case\n",
    "CHSH1_snspd = compute_chsh_witness(snspd_counts)\n",
    "print(CHSH1_snspd)"
   ]
  },
  {
   "cell_type": "code",
   "execution_count": 54,
   "id": "d9b45420",
   "metadata": {},
   "outputs": [
    {
     "data": {
      "text/plain": [
       "Text(0, 0.5, 'CHSH witness')"
      ]
     },
     "execution_count": 54,
     "metadata": {},
     "output_type": "execute_result"
    },
    {
     "data": {
      "image/png": "[encoded data removed]",
      "text/plain": [
       "<Figure size 300x200 with 1 Axes>"
      ]
     },
     "metadata": {},
     "output_type": "display_data"
    }
   ],
   "source": [
    "# make plot\n",
    "plt.figure(figsize=(3,2))\n",
    "plt.rcParams.update({'font.size': 8})\n",
    "plt.plot(theta_vec,CHSH1_ideal,'o-',label = 'CHSH ideal')\n",
    "plt.plot(theta_vec,CHSH1_snspd,'o-',label = 'CHSH SNSPD')\n",
    "plt.grid(which='major',axis='both')\n",
    "plt.rcParams.update({'font.size': 6})\n",
    "plt.legend()\n",
    "plt.axhline(y=2, color='r', linestyle='-')\n",
    "plt.axhline(y=-2, color='r', linestyle='-')\n",
    "plt.axhline(y=np.sqrt(2)*2, color='k', linestyle='-.')\n",
    "plt.axhline(y=-np.sqrt(2)*2, color='k', linestyle='-.')\n",
    "plt.xlabel('Theta')\n",
    "plt.ylabel('CHSH witness')"
   ]
  },
  {
   "cell_type": "code",
   "execution_count": null,
   "id": "17031a0c",
   "metadata": {},
   "outputs": [],
   "source": []
  }
 ],
 "metadata": {
  "kernelspec": {
   "display_name": "Python 3 (ipykernel)",
   "language": "python",
   "name": "python3"
  },
  "language_info": {
   "codemirror_mode": {
    "name": "ipython",
    "version": 3
   },
   "file_extension": ".py",
   "mimetype": "text/x-python",
   "name": "python",
   "nbconvert_exporter": "python",
   "pygments_lexer": "ipython3",
   "version": "3.8.13"
  }
 },
 "nbformat": 4,
 "nbformat_minor": 5
}
