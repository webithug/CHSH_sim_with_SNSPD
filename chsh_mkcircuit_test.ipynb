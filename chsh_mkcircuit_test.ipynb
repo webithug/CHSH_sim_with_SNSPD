{
 "cells": [
  {
   "cell_type": "code",
   "execution_count": 27,
   "id": "b24906c4",
   "metadata": {},
   "outputs": [
    {
     "data": {
      "text/html": [
       "<pre style=\"word-wrap: normal;white-space: pre;background: #fff0;line-height: 1.1;font-family: &quot;Courier New&quot;,Courier,monospace\">     ┌───┐     ┌─────────┐┌───┐┌─┐\n",
       "q_0: ┤ H ├──■──┤ Ry(π/7) ├┤ H ├┤M├\n",
       "     └───┘┌─┴─┐└──┬───┬──┘└┬─┬┘└╥┘\n",
       "q_1: ─────┤ X ├───┤ H ├────┤M├──╫─\n",
       "          └───┘   └───┘    └╥┘  ║ \n",
       "c_0: ═══════════════════════╬═══╩═\n",
       "                            ║     \n",
       "c_1: ═══════════════════════╩═════\n",
       "                                  </pre>"
      ],
      "text/plain": [
       "     ┌───┐     ┌─────────┐┌───┐┌─┐\n",
       "q_0: ┤ H ├──■──┤ Ry(π/7) ├┤ H ├┤M├\n",
       "     └───┘┌─┴─┐└──┬───┬──┘└┬─┬┘└╥┘\n",
       "q_1: ─────┤ X ├───┤ H ├────┤M├──╫─\n",
       "          └───┘   └───┘    └╥┘  ║ \n",
       "c_0: ═══════════════════════╬═══╩═\n",
       "                            ║     \n",
       "c_1: ═══════════════════════╩═════\n",
       "                                  "
      ]
     },
     "execution_count": 27,
     "metadata": {},
     "output_type": "execute_result"
    }
   ],
   "source": [
    "#import qiskit tools\n",
    "import qiskit\n",
    "from qiskit import QuantumCircuit, ClassicalRegister, QuantumRegister, transpile, Aer, IBMQ\n",
    "from qiskit.tools.visualization import circuit_drawer\n",
    "from qiskit.visualization import plot_histogram\n",
    "from qiskit.tools.monitor import job_monitor, backend_monitor, backend_overview\n",
    "from qiskit.providers.aer import noise\n",
    "\n",
    "#import python stuff\n",
    "import matplotlib.pyplot as plt\n",
    "import numpy as np\n",
    "import time\n",
    "\n",
    "# Set backend device, choose to use a simulator\n",
    "sim = Aer.get_backend('aer_simulator')\n",
    "\n",
    "def make_chsh_circuit(theta_vec):\n",
    "    chsh_circuits = []\n",
    "    \n",
    "    for theta in theta_vec:\n",
    "        obs_vec = ['00', '01', '10', '11'] # ?\n",
    "        for el in obs_vec:\n",
    "            qc = QuantumCircuit(2,2) # create a quantum circuit with two quantum register(qubits) and two classical register\n",
    "            qc.h(0) # add a H gate on qubit 0\n",
    "            qc.cx(0, 1) # Add a CX (CNOT) gate on control qubit 0 and target qubit 1\n",
    "            qc.ry(theta, 0) # rotate around y-axis by theta\n",
    "            for a in range(2): # what does this do? why do we need this part?\n",
    "                if el[a] == '1':\n",
    "                    qc.h(a)\n",
    "            qc.measure(range(2),range(2)) # measure q0 save to bit_0, then measure q1 save to bit_1\n",
    "            chsh_circuits.append(qc)\n",
    "\n",
    "    return chsh_circuits\n",
    "\n",
    "number_of_thetas = 15\n",
    "theta_vec = np.linspace(0,2*np.pi,number_of_thetas)\n",
    "my_chsh_circuits = make_chsh_circuit(theta_vec)\n",
    "\n",
    "# testing...........................................\n",
    "# show the circuit\n",
    "n=7\n",
    "my_chsh_circuits[n].draw()\n",
    "\n"
   ]
  },
  {
   "cell_type": "code",
   "execution_count": 15,
   "id": "b22e3c95",
   "metadata": {},
   "outputs": [],
   "source": [
    "# # show the measurement results of n-th circuit\n",
    "# job = sim.run(my_chsh_circuits[n])\n",
    "# result = job.result()\n",
    "# counts = result.get_counts(my_chsh_circuits[n])\n",
    "# plot_histogram(counts)"
   ]
  },
  {
   "cell_type": "code",
   "execution_count": null,
   "id": "e63d085d",
   "metadata": {},
   "outputs": [],
   "source": []
  },
  {
   "cell_type": "code",
   "execution_count": null,
   "id": "adb6936b",
   "metadata": {},
   "outputs": [],
   "source": []
  }
 ],
 "metadata": {
  "kernelspec": {
   "display_name": "Python 3 (ipykernel)",
   "language": "python",
   "name": "python3"
  },
  "language_info": {
   "codemirror_mode": {
    "name": "ipython",
    "version": 3
   },
   "file_extension": ".py",
   "mimetype": "text/x-python",
   "name": "python",
   "nbconvert_exporter": "python",
   "pygments_lexer": "ipython3",
   "version": "3.8.13"
  }
 },
 "nbformat": 4,
 "nbformat_minor": 5
}
